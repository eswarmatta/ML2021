{
  "nbformat": 4,
  "nbformat_minor": 0,
  "metadata": {
    "colab": {
      "name": "My first colab book.ipynb",
      "provenance": [],
      "authorship_tag": "ABX9TyNWHRvQ+blGBs5pfwsYaHnb",
      "include_colab_link": true
    },
    "kernelspec": {
      "name": "python3",
      "display_name": "Python 3"
    },
    "language_info": {
      "name": "python"
    }
  },
  "cells": [
    {
      "cell_type": "markdown",
      "metadata": {
        "id": "view-in-github",
        "colab_type": "text"
      },
      "source": [
        "<a href=\"https://colab.research.google.com/github/eswarmatta/ML2021/blob/main/My_first_colab_book.ipynb\" target=\"_parent\"><img src=\"https://colab.research.google.com/assets/colab-badge.svg\" alt=\"Open In Colab\"/></a>"
      ]
    },
    {
      "cell_type": "markdown",
      "metadata": {
        "id": "T8pqyzCewd3I"
      },
      "source": [
        " program to find factorial of a number"
      ]
    },
    {
      "cell_type": "code",
      "metadata": {
        "id": "Zfgz3z473Xsq"
      },
      "source": [
        " \n",
        "num=int(input ())\n",
        "factorial = 1\n",
        "if num < 0:\n",
        "   print(\"Sorry, factorial does not exist for negative numbers\")\n",
        "elif num == 0:\n",
        "   print(\"The factorial of 0 is 1\")\n",
        "else:\n",
        "   for i in range(1,num + 1):\n",
        "       factorial = factorial*i\n",
        "   print(\"The factorial of\",num,\"is\",factorial)"
      ],
      "execution_count": null,
      "outputs": []
    },
    {
      "cell_type": "markdown",
      "metadata": {
        "id": "qfiUGxsR3swB"
      },
      "source": [
        "Program to find whether it's a palindrome or not"
      ]
    },
    {
      "cell_type": "code",
      "metadata": {
        "id": "eKRhVmaL33aU"
      },
      "source": [
        " \n",
        "string=input((\"Enter a word:\"))  \n",
        "if(string==string[::-1]):  \n",
        "      print(\"The word is a palindrome\")  \n",
        "else:  \n",
        "      print(\"The word is not a palindrome\")"
      ],
      "execution_count": null,
      "outputs": []
    },
    {
      "cell_type": "markdown",
      "metadata": {
        "id": "vWbTpjGy5JsA"
      },
      "source": [
        "Find the biggest number of three numbers"
      ]
    },
    {
      "cell_type": "code",
      "metadata": {
        "id": "mVNvZynq5QAC"
      },
      "source": [
        " \n",
        "num1 = int(input())\n",
        "num2 = int(input())\n",
        "num3 = int(input())\n",
        "if (num1 >= num2) and (num1 >= num3):\n",
        "   largest = num1\n",
        "elif (num2 >= num1) and (num2 >= num3):\n",
        "   largest = num2\n",
        "else:\n",
        "   largest = num3\n",
        "print(\"The largest number is\", largest)"
      ],
      "execution_count": null,
      "outputs": []
    }
  ]
}